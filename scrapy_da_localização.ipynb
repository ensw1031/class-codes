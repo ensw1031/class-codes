{
  "nbformat": 4,
  "nbformat_minor": 0,
  "metadata": {
    "colab": {
      "name": "scrapy da localização.ipynb",
      "provenance": [],
      "authorship_tag": "ABX9TyM3KxAKWqssiJ5c6s01y2g/",
      "include_colab_link": true
    },
    "kernelspec": {
      "name": "python3",
      "display_name": "Python 3"
    }
  },
  "cells": [
    {
      "cell_type": "markdown",
      "metadata": {
        "id": "view-in-github",
        "colab_type": "text"
      },
      "source": [
        "<a href=\"https://colab.research.google.com/github/ensw1031/class-codes/blob/master/scrapy_da_localiza%C3%A7%C3%A3o.ipynb\" target=\"_parent\"><img src=\"https://colab.research.google.com/assets/colab-badge.svg\" alt=\"Open In Colab\"/></a>"
      ]
    },
    {
      "cell_type": "code",
      "metadata": {
        "id": "FpJLMxxY8h3M"
      },
      "source": [
        "import requests\n",
        "from bs4 import BeautifulSoup, element\n",
        "import re\n",
        "\n",
        "check_regex = re.compile('(-)*\\d{2}.\\d{7}') #regex pras localizações (lat e long)"
      ],
      "execution_count": 55,
      "outputs": []
    },
    {
      "cell_type": "code",
      "metadata": {
        "id": "YHBPC3HN9dDe",
        "outputId": "16adac94-a933-4b35-c270-7fd51e6bfcb7",
        "colab": {
          "base_uri": "https://localhost:8080/"
        }
      },
      "source": [
        "url = 'https://www.mapacep.com.br/index.php'\n",
        "cep = '86020-100'\n",
        "payload = {\n",
        "    'keywords': cep, \n",
        "    'sid': 'Busca+por+CEP%2C+Cidade%2C+Endere%C3%A7o%2C+CNPJ+ou+C%C3%B3d.+IBGE', \n",
        "    'submit': 'Pesquisar'\n",
        "    }\n",
        "\n",
        "response = requests.post(url, data=payload)\n",
        "\n",
        "soup = BeautifulSoup(response.content, 'html.parser')\n",
        "\n",
        "div = soup.find('div', class_='addthis_inline_share_toolbox')\n",
        "\n",
        "p = div.parent.find('p')\n",
        "\n",
        "loc = []\n",
        "for b in p.children:\n",
        "  if(type(b) == element.NavigableString and check_regex.match(b.strip()) is not None):\n",
        "    loc.append(b.strip())\n",
        "\n",
        "print(loc)"
      ],
      "execution_count": 57,
      "outputs": [
        {
          "output_type": "stream",
          "text": [
            "['-23.2820899', '-51.2373043']\n"
          ],
          "name": "stdout"
        }
      ]
    }
  ]
}