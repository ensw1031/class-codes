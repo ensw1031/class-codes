{
  "nbformat": 4,
  "nbformat_minor": 0,
  "metadata": {
    "colab": {
      "name": "webscrapy-101.ipynb",
      "provenance": [],
      "collapsed_sections": [],
      "authorship_tag": "ABX9TyPO9IJQakeEP3H/iNEOMe49",
      "include_colab_link": true
    },
    "kernelspec": {
      "name": "python3",
      "display_name": "Python 3"
    }
  },
  "cells": [
    {
      "cell_type": "markdown",
      "metadata": {
        "id": "view-in-github",
        "colab_type": "text"
      },
      "source": [
        "<a href=\"https://colab.research.google.com/github/ensw1031/class-codes/blob/master/webscrapy_101.ipynb\" target=\"_parent\"><img src=\"https://colab.research.google.com/assets/colab-badge.svg\" alt=\"Open In Colab\"/></a>"
      ]
    },
    {
      "cell_type": "code",
      "metadata": {
        "id": "5-rlTIcUGXxx"
      },
      "source": [
        "#imports\n",
        "from bs4 import BeautifulSoup\n",
        "\n",
        "import requests"
      ],
      "execution_count": 1,
      "outputs": []
    },
    {
      "cell_type": "code",
      "metadata": {
        "id": "kETAXD-h1-mi"
      },
      "source": [
        "#variaveis importantes\n",
        "\n",
        "base_url = 'https://www.raulfulgencio.com.br'\n",
        "\n",
        "apts = []"
      ],
      "execution_count": 27,
      "outputs": []
    },
    {
      "cell_type": "code",
      "metadata": {
        "id": "1061kqPm2Nk5"
      },
      "source": [
        "# função para extrair as informações do apt\n",
        "\n",
        "def extract_apt_info(apt):\n",
        "  price = apt.find('div', class_='price').find('span').text.strip()\n",
        "  title = apt.find('div', class_='info').find('h3').find('a').text.strip()\n",
        "  neighborhood = apt.find('div', class_='info').find('h3').find('small').text.strip()\n",
        "  # print(f'{title} ({neighborhood}) {price}')\n",
        "  # area = apt.find('i', class_='icon-area').parent.text.split(' ')[0]\n",
        "  # bedrooms = apt.find('i', class_='icon-bedrooms')  \n",
        "  # bathrooms = apt.find('i', class_='icon-bathrooms').parent.text.strio()\n",
        "  # print(f'{title} ({neighborhood}) {price} - {area} ({bedrooms}, bathrooms)')\n",
        "  detail_url = apt.find('a').get('href')\n",
        "  # print(base_url+detail_url)\n",
        "  print(f\"GET {base_url}/{detail_url}\")\n",
        "  page = requests.get(f\"{base_url}/{detail_url}\")\n",
        "  soup = BeautifulSoup(page.content, 'html.parser')\n",
        "  amenities = soup.find_all('ul', class_='property-amenities-list col-md-6')\n",
        "  apt = {\n",
        "      'price': price,\n",
        "      'title': title,\n",
        "      'neighborhood': neighborhood,\n",
        "  }\n",
        "\n",
        "  info_dict = dict()\n",
        "  for col in amenities:\n",
        "    infos = col.find_all('li')\n",
        "    for info in infos:\n",
        "      tokens = info.text.split(':')      \n",
        "      key = tokens[0].strip().lower()\n",
        "      value = tokens[1].strip()\n",
        "      info_dict[key] = value\n",
        "      # print(f\"{key}: {value}\")\n",
        "\n",
        "  if('suítes' not in info_dict):\n",
        "    info_dict['suítes'] = 0\n",
        "    \n",
        "  if('iptu' not in info_dict):\n",
        "    info_dict['iptu'] = 0\n",
        "\n",
        "  apt['info'] = info_dict\n",
        "\n",
        "  return apt"
      ],
      "execution_count": 45,
      "outputs": []
    },
    {
      "cell_type": "code",
      "metadata": {
        "id": "2aP3pe_mKr4i",
        "outputId": "2daf1c7a-b99c-4b16-fb21-8438c5db28eb",
        "colab": {
          "base_uri": "https://localhost:8080/",
          "height": 558
        }
      },
      "source": [
        "x = range(1, 2)\n",
        "for n in x: \n",
        "  url = f\"{base_url}/alugar/Londrina/Apartamento/Padrao/?pag={n}\"\n",
        "  print(f\"GET {url}\")\n",
        "  page = requests.get(url)\n",
        "  soup = BeautifulSoup(page.content, 'html.parser')\n",
        "  apes = soup.find_all('div', class_='item col-sm-6 col-md-4 col-lg-3')\n",
        "  for ape in apes:\n",
        "    price = ape.find('div', class_='price').find('span').text.strip()\n",
        "    if('Consulte' not in price):    \n",
        "      extract_apt = extract_apt_info(ape)\n",
        "      print(extract_apt)\n",
        "      apts.append(extract_apt)\n",
        "\n"
      ],
      "execution_count": 46,
      "outputs": [
        {
          "output_type": "stream",
          "text": [
            "GET https://www.raulfulgencio.com.br/alugar/Londrina/Apartamento/Padrao/?pag=1\n",
            "GET https://www.raulfulgencio.com.br/alugar/Londrina/Apartamento/Padrao/Gleba-Fazenda-Palhano/6594\n",
            "{'price': '1.800,00', 'title': 'Apartamento Padrão', 'neighborhood': 'Gleba Fazenda Palhano', 'info': {'operação': 'Locação', 'cidade': 'Londrina', 'dormitórios': '3 \\n                                \\t\\t\\t\\t\\t\\t\\t\\t\\t\\t\\t/ Sendo 1 Suite', 'banheiros': '2', 'vagas na garagem': '2', 'tipo do imóvel': 'Padrão', 'bairro': 'Gleba Fazenda Palhano', 'condomínio': '500,00 / Mês - (Sujeito a alterações)', 'suítes': '1', 'área útil': '83.18 M²', 'iptu': 0}}\n",
            "GET https://www.raulfulgencio.com.br/alugar/Londrina/Apartamento/Padrao/Jardim-Agari/6587\n",
            "{'price': '1.300,00', 'title': 'Apartamento Padrão', 'neighborhood': 'Jardim Agari', 'info': {'operação': 'Locação ou Venda', 'cidade': 'Londrina', 'dormitórios': '3 \\n                                \\t\\t\\t\\t\\t\\t\\t\\t\\t\\t\\t/ Sendo 1 Suite', 'banheiros': '3', 'vagas na garagem': '1', 'tipo do imóvel': 'Padrão', 'bairro': 'Jardim Agari', 'condomínio': '960,00 / Mês - (Sujeito a alterações)', 'suítes': '1', 'área útil': '124.89 M²', 'iptu': 0}}\n",
            "GET https://www.raulfulgencio.com.br/alugar/Londrina/Apartamento/Padrao/Centro/6573\n",
            "{'price': '1.300,00', 'title': 'Apartamento Padrão', 'neighborhood': 'Centro', 'info': {'operação': 'Locação', 'cidade': 'Londrina', 'dormitórios': '2 \\n                                \\t\\t\\t\\t\\t\\t\\t\\t\\t\\t\\t/ Sendo 1 Suite', 'banheiros': '3', 'vagas na garagem': '2', 'tipo do imóvel': 'Padrão', 'bairro': 'Centro', 'condomínio': '516,00 / Mês - (Sujeito a alterações)', 'suítes': '1', 'área útil': '100.21 M²', 'iptu': 0}}\n",
            "GET https://www.raulfulgencio.com.br/alugar/Londrina/Apartamento/Padrao/Gleba-Fazenda-Palhano/6563\n",
            "{'price': '1.850,00', 'title': 'Apartamento Padrão', 'neighborhood': 'Gleba Fazenda Palhano', 'info': {'operação': 'Locação', 'cidade': 'Londrina', 'dormitórios': '2 \\n                                \\t\\t\\t\\t\\t\\t\\t\\t\\t\\t\\t/ Sendo 1 Suite', 'banheiros': '2', 'vagas na garagem': '2', 'tipo do imóvel': 'Padrão', 'bairro': 'Gleba Fazenda Palhano', 'condomínio': '380,00 / Mês - (Sujeito a alterações)', 'iptu': '100,00 / Mês - (Sujeito a alterações)', 'suítes': '1', 'área útil': '81.10 M²'}}\n",
            "GET https://www.raulfulgencio.com.br/alugar/Londrina/Apartamento/Padrao/Gleba-Fazenda-Palhano/6525\n",
            "{'price': '2.400,00', 'title': 'Apartamento Padrão', 'neighborhood': 'Gleba Fazenda Palhano', 'info': {'operação': 'Locação', 'cidade': 'Londrina', 'dormitórios': '3 \\n                                \\t\\t\\t\\t\\t\\t\\t\\t\\t\\t\\t/ Sendo 1 Suite', 'banheiros': '2', 'vagas na garagem': '2', 'tipo do imóvel': 'Padrão', 'bairro': 'Gleba Fazenda Palhano', 'condomínio': '400,00 / Mês - (Sujeito a alterações)', 'suítes': '1', 'área útil': '99.00 M²', 'iptu': 0}}\n",
            "GET https://www.raulfulgencio.com.br/alugar/Londrina/Apartamento/Padrao/Vila-Larsen-1/6501\n",
            "{'price': '750,00', 'title': 'Apartamento Padrão', 'neighborhood': 'Vila Larsen 1', 'info': {'operação': 'Locação', 'cidade': 'Londrina', 'dormitórios': '1 \\n                                \\t\\t\\t\\t\\t\\t\\t\\t\\t\\t\\t/ Sendo 1 Suite', 'banheiros': '1', 'tipo do imóvel': 'Padrão', 'bairro': 'Vila Larsen 1', 'condomínio': '300,00 / Mês - (Sujeito a alterações)', 'suítes': '1', 'área útil': '33.85 M²', 'iptu': 0}}\n",
            "GET https://www.raulfulgencio.com.br/alugar/Londrina/Apartamento/Padrao/Bela-Suica/6496\n",
            "{'price': '6.900,00', 'title': 'Apartamento Padrão', 'neighborhood': 'Bela Suiça', 'info': {'operação': 'Locação', 'cidade': 'Londrina', 'dormitórios': '3 \\n                                \\t\\t\\t\\t\\t\\t\\t\\t\\t\\t\\t/ Sendo 3 Suites', 'banheiros': '4', 'vagas na garagem': '4', 'tipo do imóvel': 'Padrão', 'bairro': 'Bela Suiça', 'condomínio': '2.000,00 / Mês - (Sujeito a alterações)', 'suítes': '3', 'área útil': '240.00 M²', 'iptu': 0}}\n",
            "GET https://www.raulfulgencio.com.br/alugar/Londrina/Apartamento/Padrao/Gleba-Fazenda-Palhano/6490\n",
            "{'price': '2.500,00', 'title': 'Apartamento Padrão', 'neighborhood': 'Gleba Fazenda Palhano', 'info': {'operação': 'Locação', 'cidade': 'Londrina', 'dormitórios': '2 \\n                                \\t\\t\\t\\t\\t\\t\\t\\t\\t\\t\\t/ Sendo 1 Suite', 'banheiros': '2', 'vagas na garagem': '1', 'tipo do imóvel': 'Padrão', 'bairro': 'Gleba Fazenda Palhano', 'condomínio': '480,00 / Mês - (Sujeito a alterações)', 'suítes': '1', 'área útil': '76.86 M²', 'iptu': 0}}\n",
            "GET https://www.raulfulgencio.com.br/alugar/Londrina/Apartamento/Padrao/Centro/6482\n",
            "{'price': '1.100,00', 'title': 'Apartamento Padrão', 'neighborhood': 'Centro', 'info': {'operação': 'Locação', 'cidade': 'Londrina', 'dormitórios': '3 \\n                                \\t\\t\\t\\t\\t\\t\\t\\t\\t\\t\\t/ Sendo 1 Suite', 'banheiros': '2', 'vagas na garagem': '2', 'tipo do imóvel': 'Padrão', 'bairro': 'Centro', 'condomínio': '440,00 / Mês - (Sujeito a alterações)', 'suítes': '1', 'área útil': '66.40 M²', 'iptu': 0}}\n",
            "GET https://www.raulfulgencio.com.br/alugar/Londrina/Apartamento/Padrao/Gleba-Fazenda-Palhano/6480\n",
            "{'price': '1.650,00', 'title': 'Apartamento Padrão', 'neighborhood': 'Gleba Fazenda Palhano', 'info': {'operação': 'Locação', 'cidade': 'Londrina', 'dormitórios': '3 \\n                                \\t\\t\\t\\t\\t\\t\\t\\t\\t\\t\\t/ Sendo 1 Suite', 'banheiros': '2', 'vagas na garagem': '1', 'tipo do imóvel': 'Padrão', 'bairro': 'Gleba Fazenda Palhano', 'condomínio': '350,00 / Mês - (Sujeito a alterações)', 'suítes': '1', 'área útil': '75.00 M²', 'iptu': 0}}\n",
            "GET https://www.raulfulgencio.com.br/alugar/Londrina/Apartamento/Padrao/Gleba-Fazenda-Palhano/6479\n",
            "{'price': '1.650,00', 'title': 'Apartamento Padrão', 'neighborhood': 'Gleba Fazenda Palhano', 'info': {'operação': 'Locação', 'cidade': 'Londrina', 'dormitórios': '3 \\n                                \\t\\t\\t\\t\\t\\t\\t\\t\\t\\t\\t/ Sendo 1 Suite', 'banheiros': '2', 'vagas na garagem': '1', 'tipo do imóvel': 'Padrão', 'bairro': 'Gleba Fazenda Palhano', 'condomínio': '350,00 / Mês - (Sujeito a alterações)', 'suítes': '1', 'área útil': '75.00 M²', 'iptu': 0}}\n",
            "GET https://www.raulfulgencio.com.br/alugar/Londrina/Apartamento/Padrao/Centro/6415\n",
            "{'price': '1.600,00', 'title': 'Apartamento Padrão', 'neighborhood': 'Centro', 'info': {'operação': 'Locação ou Venda', 'cidade': 'Londrina', 'dormitórios': '3 \\n                                \\t\\t\\t\\t\\t\\t\\t\\t\\t\\t\\t/ Sendo 1 Suite', 'banheiros': '2', 'vagas na garagem': '2', 'tipo do imóvel': 'Padrão', 'bairro': 'Centro', 'condomínio': '450,00 / Mês - (Sujeito a alterações)', 'iptu': '90,00 / Mês - (Sujeito a alterações)', 'suítes': '1', 'área útil': '74.30 M²'}}\n",
            "GET https://www.raulfulgencio.com.br/alugar/Londrina/Apartamento/Padrao/Gleba-Fazenda-Palhano/6307\n",
            "{'price': '2.200,00', 'title': 'Apartamento Padrão', 'neighborhood': 'Gleba Fazenda Palhano', 'info': {'operação': 'Locação', 'cidade': 'Londrina', 'dormitórios': '3 \\n                                \\t\\t\\t\\t\\t\\t\\t\\t\\t\\t\\t/ Sendo 1 Suite', 'banheiros': '2', 'vagas na garagem': '1', 'tipo do imóvel': 'Padrão', 'bairro': 'Gleba Fazenda Palhano', 'condomínio': '350,00 / Mês - (Sujeito a alterações)', 'suítes': '1', 'área útil': '69.00 M²', 'iptu': 0}}\n",
            "GET https://www.raulfulgencio.com.br/alugar/Londrina/Apartamento/Padrao/Gleba-Fazenda-Palhano/6292\n",
            "{'price': '1.200,00', 'title': 'Apartamento Padrão', 'neighborhood': 'Gleba Fazenda Palhano', 'info': {'operação': 'Locação', 'cidade': 'Londrina', 'dormitórios': '2', 'banheiros': '1', 'vagas na garagem': '1', 'tipo do imóvel': 'Padrão', 'bairro': 'Gleba Fazenda Palhano', 'condomínio': '250,00 / Mês - (Sujeito a alterações)', 'área útil': '54.00 M²', 'suítes': 0, 'iptu': 0}}\n",
            "GET https://www.raulfulgencio.com.br/alugar/Londrina/Apartamento/Padrao/Gleba-Fazenda-Palhano/6279\n",
            "{'price': '1.350,00', 'title': 'Apartamento Padrão', 'neighborhood': 'Gleba Fazenda Palhano', 'info': {'operação': 'Locação', 'cidade': 'Londrina', 'dormitórios': '2', 'banheiros': '1', 'vagas na garagem': '2', 'tipo do imóvel': 'Padrão', 'bairro': 'Gleba Fazenda Palhano', 'condomínio': '250,00 / Mês - (Sujeito a alterações)', 'área útil': '54.38 M²', 'suítes': 0, 'iptu': 0}}\n"
          ],
          "name": "stdout"
        }
      ]
    },
    {
      "cell_type": "code",
      "metadata": {
        "id": "9TXazw7R545I",
        "outputId": "c6502065-0ea1-43b3-bfca-3f4f48ad5d51",
        "colab": {
          "base_uri": "https://localhost:8080/",
          "height": 34
        }
      },
      "source": [
        "len(apts)"
      ],
      "execution_count": 38,
      "outputs": [
        {
          "output_type": "execute_result",
          "data": {
            "text/plain": [
              "210"
            ]
          },
          "metadata": {
            "tags": []
          },
          "execution_count": 38
        }
      ]
    }
  ]
}